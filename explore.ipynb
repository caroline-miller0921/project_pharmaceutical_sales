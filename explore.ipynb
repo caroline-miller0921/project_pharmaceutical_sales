{
 "cells": [
  {
   "cell_type": "code",
   "execution_count": 1,
   "id": "78063f6d",
   "metadata": {},
   "outputs": [],
   "source": [
    "# for presentation purposes\n",
    "import warnings\n",
    "warnings.filterwarnings(\"ignore\")\n",
    "\n",
    "# wrangle\n",
    "import os\n",
    "\n",
    "# transform\n",
    "import numpy as np\n",
    "import pandas as pd\n",
    "\n",
    "# visualize \n",
    "import matplotlib.pyplot as plt\n",
    "import seaborn as sns\n",
    "\n",
    "# working with dates\n",
    "from datetime import datetime\n",
    "\n",
    "# modeling\n",
    "import statsmodels.api as sm\n",
    "from statsmodels.tsa.api import Holt, ExponentialSmoothing\n",
    "\n",
    "# evaluate\n",
    "from sklearn.metrics import mean_squared_error\n",
    "from math import sqrt \n",
    "\n",
    "import wrangle as w\n",
    "import scipy.stats as stats"
   ]
  },
  {
   "cell_type": "code",
   "execution_count": 2,
   "id": "dc296726",
   "metadata": {
    "collapsed": true
   },
   "outputs": [
    {
     "name": "stdout",
     "output_type": "stream",
     "text": [
      "There are 0, 0.0%, null values in index\n",
      "There are 0, 0.0%, null values in entity\n",
      "There are 980, 15.15%, null values in code\n",
      "There are 0, 0.0%, null values in year\n",
      "There are 0, 0.0%, null values in schizophrenia\n",
      "There are 0, 0.0%, null values in bipolar_disorder\n",
      "There are 0, 0.0%, null values in eating_disorders\n",
      "There are 0, 0.0%, null values in anxiety_disorders\n",
      "There are 0, 0.0%, null values in drug_use_disorders\n",
      "There are 0, 0.0%, null values in depression\n",
      "There are 0, 0.0%, null values in alcohol_use_disorders\n",
      "There are 0, 0.0%, null values in index\n",
      "There are 0, 0.0%, null values in entity\n",
      "There are 1726, 3.61%, null values in code\n",
      "There are 0, 0.0%, null values in year\n",
      "There are 41339, 86.47%, null values in schizophrenia\n",
      "There are 41339, 86.47%, null values in bipolar_disorder\n",
      "There are 924, 1.93%, null values in eating_disorders\n",
      "There are 47807, 100.0%, null values in anxiety_disorders\n",
      "There are 47807, 100.0%, null values in drug_use_disorders\n",
      "There are 47807, 100.0%, null values in depression\n",
      "There are 47807, 100.0%, null values in alcohol_use_disorders\n",
      "There are 0, 0.0%, null values in index\n",
      "There are 0, 0.0%, null values in entity\n",
      "There are 1126, 14.61%, null values in code\n",
      "There are 1239, 16.08%, null values in suicide_rates_per_100k\n",
      "There are 1239, 16.08%, null values in depressive_disorder_rates_per_100k\n",
      "There are 924, 11.99%, null values in population\n",
      "There are 0, 0.0%, null values in index\n",
      "There are 0, 0.0%, null values in entity\n",
      "There are 980, 15.15%, null values in code\n",
      "There are 0, 0.0%, null values in year\n",
      "There are 0, 0.0%, null values in schizophrenia\n",
      "There are 0, 0.0%, null values in bipolar_disorder\n",
      "There are 0, 0.0%, null values in eating_disorders\n",
      "There are 0, 0.0%, null values in anxiety_disorders\n",
      "There are 0, 0.0%, null values in drug_use_disorders\n",
      "There are 0, 0.0%, null values in depression\n",
      "There are 0, 0.0%, null values in alcohol_use_disorders\n",
      "There are 0, 0.0%, null values in index\n",
      "There are 0, 0.0%, null values in entity\n",
      "There are 1726, 3.61%, null values in code\n",
      "There are 0, 0.0%, null values in year\n",
      "There are 41339, 86.47%, null values in schizophrenia\n",
      "There are 41339, 86.47%, null values in bipolar_disorder\n",
      "There are 924, 1.93%, null values in eating_disorders\n",
      "There are 47807, 100.0%, null values in anxiety_disorders\n",
      "There are 47807, 100.0%, null values in drug_use_disorders\n",
      "There are 47807, 100.0%, null values in depression\n",
      "There are 47807, 100.0%, null values in alcohol_use_disorders\n",
      "There are 0, 0.0%, null values in index\n",
      "There are 0, 0.0%, null values in entity\n",
      "There are 1126, 14.61%, null values in code\n",
      "There are 1239, 16.08%, null values in suicide_rates_per_100k\n",
      "There are 1239, 16.08%, null values in depressive_disorder_rates_per_100k\n",
      "There are 924, 11.99%, null values in population\n",
      "There are 0, 0.0%, null values in index\n",
      "There are 0, 0.0%, null values in entity\n",
      "There are 980, 15.15%, null values in code\n",
      "There are 0, 0.0%, null values in year\n",
      "There are 0, 0.0%, null values in schizophrenia\n",
      "There are 0, 0.0%, null values in bipolar_disorder\n",
      "There are 0, 0.0%, null values in eating_disorders\n",
      "There are 0, 0.0%, null values in anxiety_disorders\n",
      "There are 0, 0.0%, null values in drug_use_disorders\n",
      "There are 0, 0.0%, null values in depression\n",
      "There are 0, 0.0%, null values in alcohol_use_disorders\n",
      "There are 0, 0.0%, null values in index\n",
      "There are 0, 0.0%, null values in entity\n",
      "There are 1726, 3.61%, null values in code\n",
      "There are 0, 0.0%, null values in year\n",
      "There are 41339, 86.47%, null values in schizophrenia\n",
      "There are 41339, 86.47%, null values in bipolar_disorder\n",
      "There are 924, 1.93%, null values in eating_disorders\n",
      "There are 47807, 100.0%, null values in anxiety_disorders\n",
      "There are 47807, 100.0%, null values in drug_use_disorders\n",
      "There are 47807, 100.0%, null values in depression\n",
      "There are 47807, 100.0%, null values in alcohol_use_disorders\n",
      "There are 0, 0.0%, null values in index\n",
      "There are 0, 0.0%, null values in entity\n",
      "There are 1126, 14.61%, null values in code\n",
      "There are 1239, 16.08%, null values in suicide_rates_per_100k\n",
      "There are 1239, 16.08%, null values in depressive_disorder_rates_per_100k\n",
      "There are 924, 11.99%, null values in population\n",
      "There are 0, 0.0%, null values in index\n",
      "There are 0, 0.0%, null values in entity\n",
      "There are 980, 15.15%, null values in code\n",
      "There are 0, 0.0%, null values in year\n",
      "There are 0, 0.0%, null values in schizophrenia\n",
      "There are 0, 0.0%, null values in bipolar_disorder\n",
      "There are 0, 0.0%, null values in eating_disorders\n",
      "There are 0, 0.0%, null values in anxiety_disorders\n",
      "There are 0, 0.0%, null values in drug_use_disorders\n",
      "There are 0, 0.0%, null values in depression\n",
      "There are 0, 0.0%, null values in alcohol_use_disorders\n",
      "There are 0, 0.0%, null values in index\n",
      "There are 0, 0.0%, null values in entity\n",
      "There are 1726, 3.61%, null values in code\n",
      "There are 0, 0.0%, null values in year\n",
      "There are 41339, 86.47%, null values in schizophrenia\n",
      "There are 41339, 86.47%, null values in bipolar_disorder\n",
      "There are 924, 1.93%, null values in eating_disorders\n",
      "There are 47807, 100.0%, null values in anxiety_disorders\n",
      "There are 47807, 100.0%, null values in drug_use_disorders\n",
      "There are 47807, 100.0%, null values in depression\n",
      "There are 47807, 100.0%, null values in alcohol_use_disorders\n",
      "There are 0, 0.0%, null values in index\n",
      "There are 0, 0.0%, null values in entity\n",
      "There are 1126, 14.61%, null values in code\n",
      "There are 1239, 16.08%, null values in suicide_rates_per_100k\n",
      "There are 1239, 16.08%, null values in depressive_disorder_rates_per_100k\n",
      "There are 924, 11.99%, null values in population\n"
     ]
    }
   ],
   "source": [
    "mental_health_df, population_df, rates_df, depressive_rates_df = w.separate_data()\n",
    "\n",
    "mental_health_df = w.clean_mental_health_data(mental_health_df)\n",
    "depressive_rates_df = w.clean_depressive_rates_data(depressive_rates_df)\n",
    "population_df = w.clean_population_data(population_df)\n",
    "rates_df = w.clean_rates_data(rates_df)\n",
    "\n",
    "yearly_disorders, yearly_prevalence_sex, yearly_depressive_rates, yearly_suicide_rates = w.yearly_aggregation()\n",
    "\n",
    "df = w.merge_yearly_aggregation()\n",
    "\n",
    "train_yearly, test_yearly = w.split_yearly_data()\n",
    "\n",
    "train, validate, test = w.split_data(df)"
   ]
  },
  {
   "cell_type": "markdown",
   "id": "ffd99331",
   "metadata": {},
   "source": [
    "### Questions to explore \n",
    "\n",
    "    1. Is there a difference in the rate of depression in the United States versus the rest of the world?\n",
    "    2. Are the rates of any of the mental health disorders decreasing? What is the rate for each disorder from 1990 to 2017?\n",
    "    3. Is there a difference in the rates of the happiest country vs the least happy country?\n",
    "    4. Is there a difference in rates of depression between two populations: 1) Iceland, Portugal, Canada, Australia and Sweden and 2) the rest of the world?"
   ]
  },
  {
   "cell_type": "markdown",
   "id": "4153c721",
   "metadata": {},
   "source": [
    "**Question 1:**  Is there a difference in the rate of depression in the United States versus the rest of the world?\n",
    "\n",
    "To test this question, I will conduct a means comparison hypothesis test using the rates_df dataset."
   ]
  },
  {
   "cell_type": "code",
   "execution_count": 3,
   "id": "ece6ee6d",
   "metadata": {},
   "outputs": [],
   "source": [
    "us_rates_df = rates_df[rates_df.entity == 'United States']\n",
    "world_rates_df = rates_df[rates_df.entity != 'United States']"
   ]
  },
  {
   "cell_type": "code",
   "execution_count": 4,
   "id": "1882dc3f",
   "metadata": {},
   "outputs": [
    {
     "data": {
      "text/plain": [
       "<AxesSubplot:>"
      ]
     },
     "execution_count": 4,
     "metadata": {},
     "output_type": "execute_result"
    },
    {
     "data": {
      "image/png": "[encoded data removed]",
      "text/plain": [
       "<Figure size 640x480 with 1 Axes>"
      ]
     },
     "metadata": {},
     "output_type": "display_data"
    }
   ],
   "source": [
    "us_rates_df.percentage_depressive_disorder.hist()"
   ]
  },
  {
   "cell_type": "code",
   "execution_count": 5,
   "id": "8b22b1a1",
   "metadata": {},
   "outputs": [
    {
     "data": {
      "text/plain": [
       "<AxesSubplot:>"
      ]
     },
     "execution_count": 5,
     "metadata": {},
     "output_type": "execute_result"
    },
    {
     "data": {
      "image/png": "[encoded data removed]",
      "text/plain": [
       "<Figure size 640x480 with 1 Axes>"
      ]
     },
     "metadata": {},
     "output_type": "display_data"
    }
   ],
   "source": [
    "world_rates_df.percentage_depressive_disorder.hist()"
   ]
  },
  {
   "cell_type": "markdown",
   "id": "5e974d1d",
   "metadata": {},
   "source": [
    "H$_O$: There is no difference in the means of rates of depression between the world and the US.\n",
    "\n",
    "H$_A$: There is difference in the means of rates of depression between the world and the US."
   ]
  },
  {
   "cell_type": "code",
   "execution_count": 6,
   "id": "8112007c",
   "metadata": {},
   "outputs": [
    {
     "name": "stdout",
     "output_type": "stream",
     "text": [
      "We must reject the null hypothesis and conclude with some confidence that the means are different.\n"
     ]
    }
   ],
   "source": [
    "us = us_rates_df.percentage_depressive_disorder\n",
    "world = world_rates_df.percentage_depressive_disorder.mean()\n",
    "\n",
    "t_stat, p = stats.ttest_1samp(us, world)\n",
    "α = 0.05\n",
    "if p < α:\n",
    "    print('We must reject the null hypothesis and conclude with some confidence that the means are different.')"
   ]
  },
  {
   "cell_type": "markdown",
   "id": "17c1fdfd",
   "metadata": {},
   "source": [
    "Now that we know the two are different, let's see if the US mean is greater than the world's mean."
   ]
  },
  {
   "cell_type": "markdown",
   "id": "8991d53e",
   "metadata": {},
   "source": [
    "H$_O$: The mean rate of depression for the US is less than or equal to that of the rest of the world.\n",
    "\n",
    "H$_A$: The mean rate of depression for the US is greater than that of the rest of the world."
   ]
  },
  {
   "cell_type": "code",
   "execution_count": 7,
   "id": "4d176cd1",
   "metadata": {},
   "outputs": [
    {
     "name": "stdout",
     "output_type": "stream",
     "text": [
      "We must reject the null hypothesis and conclude that the mean for the US is greater than or equal to that of the rest of the world.\n"
     ]
    }
   ],
   "source": [
    "if ((p / 2) < α) and (t_stat > 0):\n",
    "    print('We must reject the null hypothesis and conclude that the mean for the US is greater than or equal to that of the rest of the world.')"
   ]
  },
  {
   "cell_type": "code",
   "execution_count": 103,
   "id": "cd5fee7f",
   "metadata": {},
   "outputs": [
    {
     "data": {
      "text/plain": [
       "0.0431372269132143"
      ]
     },
     "execution_count": 103,
     "metadata": {},
     "output_type": "execute_result"
    }
   ],
   "source": [
    "us.mean()"
   ]
  },
  {
   "cell_type": "code",
   "execution_count": 105,
   "id": "ec02364c",
   "metadata": {},
   "outputs": [
    {
     "data": {
      "text/plain": [
       "0.03333298060027293"
      ]
     },
     "execution_count": 105,
     "metadata": {},
     "output_type": "execute_result"
    }
   ],
   "source": [
    "world.mean()"
   ]
  },
  {
   "cell_type": "markdown",
   "id": "f54fc854",
   "metadata": {},
   "source": [
    "Takeaway: The rates of depression in the US are greater than those globally. "
   ]
  },
  {
   "cell_type": "markdown",
   "id": "25755daa",
   "metadata": {},
   "source": [
    "**Question 2:**  Are the rates of any of the mental health disorders decreasing? What is the rate for each disorder from 1990 to 2017?\n",
    "\n",
    "To explore this set of questions, I will use the mental_health_df"
   ]
  },
  {
   "cell_type": "code",
   "execution_count": 8,
   "id": "2863df1e",
   "metadata": {},
   "outputs": [],
   "source": [
    "diff_df = mental_health_df.copy()\n",
    "for col in diff_df.columns:\n",
    "    if col != 'entity' and col != 'code':\n",
    "        diff_df[f'last_year_diff_{col}'] = diff_df[col] - diff_df[col].shift(1)"
   ]
  },
  {
   "cell_type": "code",
   "execution_count": 9,
   "id": "cb260348",
   "metadata": {},
   "outputs": [
    {
     "data": {
      "text/html": [
       "<div>\n",
       "<style scoped>\n",
       "    .dataframe tbody tr th:only-of-type {\n",
       "        vertical-align: middle;\n",
       "    }\n",
       "\n",
       "    .dataframe tbody tr th {\n",
       "        vertical-align: top;\n",
       "    }\n",
       "\n",
       "    .dataframe thead th {\n",
       "        text-align: right;\n",
       "    }\n",
       "</style>\n",
       "<table border=\"1\" class=\"dataframe\">\n",
       "  <thead>\n",
       "    <tr style=\"text-align: right;\">\n",
       "      <th></th>\n",
       "      <th>entity</th>\n",
       "      <th>code</th>\n",
       "      <th>schizophrenia</th>\n",
       "      <th>bipolar_disorder</th>\n",
       "      <th>eating_disorders</th>\n",
       "      <th>anxiety_disorders</th>\n",
       "      <th>drug_use_disorders</th>\n",
       "      <th>depression</th>\n",
       "      <th>alcohol_use_disorders</th>\n",
       "      <th>last_year_diff_schizophrenia</th>\n",
       "      <th>last_year_diff_bipolar_disorder</th>\n",
       "      <th>last_year_diff_eating_disorders</th>\n",
       "      <th>last_year_diff_anxiety_disorders</th>\n",
       "      <th>last_year_diff_drug_use_disorders</th>\n",
       "      <th>last_year_diff_depression</th>\n",
       "      <th>last_year_diff_alcohol_use_disorders</th>\n",
       "    </tr>\n",
       "    <tr>\n",
       "      <th>year</th>\n",
       "      <th></th>\n",
       "      <th></th>\n",
       "      <th></th>\n",
       "      <th></th>\n",
       "      <th></th>\n",
       "      <th></th>\n",
       "      <th></th>\n",
       "      <th></th>\n",
       "      <th></th>\n",
       "      <th></th>\n",
       "      <th></th>\n",
       "      <th></th>\n",
       "      <th></th>\n",
       "      <th></th>\n",
       "      <th></th>\n",
       "      <th></th>\n",
       "    </tr>\n",
       "  </thead>\n",
       "  <tbody>\n",
       "    <tr>\n",
       "      <th>1990</th>\n",
       "      <td>Afghanistan</td>\n",
       "      <td>AFG</td>\n",
       "      <td>0.160560</td>\n",
       "      <td>0.697779</td>\n",
       "      <td>0.101855</td>\n",
       "      <td>4.828830</td>\n",
       "      <td>1.677082</td>\n",
       "      <td>4.071831</td>\n",
       "      <td>0.672404</td>\n",
       "      <td>NaN</td>\n",
       "      <td>NaN</td>\n",
       "      <td>NaN</td>\n",
       "      <td>NaN</td>\n",
       "      <td>NaN</td>\n",
       "      <td>NaN</td>\n",
       "      <td>NaN</td>\n",
       "    </tr>\n",
       "    <tr>\n",
       "      <th>1991</th>\n",
       "      <td>Afghanistan</td>\n",
       "      <td>AFG</td>\n",
       "      <td>0.160312</td>\n",
       "      <td>0.697961</td>\n",
       "      <td>0.099313</td>\n",
       "      <td>4.829740</td>\n",
       "      <td>1.684746</td>\n",
       "      <td>4.079531</td>\n",
       "      <td>0.671768</td>\n",
       "      <td>-0.000248</td>\n",
       "      <td>0.000182</td>\n",
       "      <td>-0.002542</td>\n",
       "      <td>0.000910</td>\n",
       "      <td>0.007664</td>\n",
       "      <td>0.007700</td>\n",
       "      <td>-0.000636</td>\n",
       "    </tr>\n",
       "    <tr>\n",
       "      <th>1992</th>\n",
       "      <td>Afghanistan</td>\n",
       "      <td>AFG</td>\n",
       "      <td>0.160135</td>\n",
       "      <td>0.698107</td>\n",
       "      <td>0.096692</td>\n",
       "      <td>4.831108</td>\n",
       "      <td>1.694334</td>\n",
       "      <td>4.088358</td>\n",
       "      <td>0.670644</td>\n",
       "      <td>-0.000177</td>\n",
       "      <td>0.000146</td>\n",
       "      <td>-0.002621</td>\n",
       "      <td>0.001368</td>\n",
       "      <td>0.009588</td>\n",
       "      <td>0.008827</td>\n",
       "      <td>-0.001124</td>\n",
       "    </tr>\n",
       "    <tr>\n",
       "      <th>1993</th>\n",
       "      <td>Afghanistan</td>\n",
       "      <td>AFG</td>\n",
       "      <td>0.160037</td>\n",
       "      <td>0.698257</td>\n",
       "      <td>0.094336</td>\n",
       "      <td>4.830864</td>\n",
       "      <td>1.705320</td>\n",
       "      <td>4.096190</td>\n",
       "      <td>0.669738</td>\n",
       "      <td>-0.000098</td>\n",
       "      <td>0.000150</td>\n",
       "      <td>-0.002356</td>\n",
       "      <td>-0.000244</td>\n",
       "      <td>0.010986</td>\n",
       "      <td>0.007832</td>\n",
       "      <td>-0.000906</td>\n",
       "    </tr>\n",
       "    <tr>\n",
       "      <th>1994</th>\n",
       "      <td>Afghanistan</td>\n",
       "      <td>AFG</td>\n",
       "      <td>0.160022</td>\n",
       "      <td>0.698469</td>\n",
       "      <td>0.092439</td>\n",
       "      <td>4.829423</td>\n",
       "      <td>1.716069</td>\n",
       "      <td>4.099582</td>\n",
       "      <td>0.669260</td>\n",
       "      <td>-0.000015</td>\n",
       "      <td>0.000212</td>\n",
       "      <td>-0.001897</td>\n",
       "      <td>-0.001441</td>\n",
       "      <td>0.010749</td>\n",
       "      <td>0.003392</td>\n",
       "      <td>-0.000478</td>\n",
       "    </tr>\n",
       "    <tr>\n",
       "      <th>...</th>\n",
       "      <td>...</td>\n",
       "      <td>...</td>\n",
       "      <td>...</td>\n",
       "      <td>...</td>\n",
       "      <td>...</td>\n",
       "      <td>...</td>\n",
       "      <td>...</td>\n",
       "      <td>...</td>\n",
       "      <td>...</td>\n",
       "      <td>...</td>\n",
       "      <td>...</td>\n",
       "      <td>...</td>\n",
       "      <td>...</td>\n",
       "      <td>...</td>\n",
       "      <td>...</td>\n",
       "      <td>...</td>\n",
       "    </tr>\n",
       "    <tr>\n",
       "      <th>2013</th>\n",
       "      <td>Zimbabwe</td>\n",
       "      <td>ZWE</td>\n",
       "      <td>0.155670</td>\n",
       "      <td>0.607993</td>\n",
       "      <td>0.117248</td>\n",
       "      <td>3.090168</td>\n",
       "      <td>0.766280</td>\n",
       "      <td>3.128192</td>\n",
       "      <td>1.515641</td>\n",
       "      <td>0.000205</td>\n",
       "      <td>0.000498</td>\n",
       "      <td>0.000459</td>\n",
       "      <td>0.002958</td>\n",
       "      <td>0.002441</td>\n",
       "      <td>0.010120</td>\n",
       "      <td>0.000148</td>\n",
       "    </tr>\n",
       "    <tr>\n",
       "      <th>2014</th>\n",
       "      <td>Zimbabwe</td>\n",
       "      <td>ZWE</td>\n",
       "      <td>0.155993</td>\n",
       "      <td>0.608610</td>\n",
       "      <td>0.118073</td>\n",
       "      <td>3.093964</td>\n",
       "      <td>0.768914</td>\n",
       "      <td>3.140290</td>\n",
       "      <td>1.515470</td>\n",
       "      <td>0.000323</td>\n",
       "      <td>0.000617</td>\n",
       "      <td>0.000825</td>\n",
       "      <td>0.003796</td>\n",
       "      <td>0.002634</td>\n",
       "      <td>0.012098</td>\n",
       "      <td>-0.000171</td>\n",
       "    </tr>\n",
       "    <tr>\n",
       "      <th>2015</th>\n",
       "      <td>Zimbabwe</td>\n",
       "      <td>ZWE</td>\n",
       "      <td>0.156465</td>\n",
       "      <td>0.609363</td>\n",
       "      <td>0.119470</td>\n",
       "      <td>3.098687</td>\n",
       "      <td>0.771802</td>\n",
       "      <td>3.155710</td>\n",
       "      <td>1.514751</td>\n",
       "      <td>0.000472</td>\n",
       "      <td>0.000753</td>\n",
       "      <td>0.001397</td>\n",
       "      <td>0.004723</td>\n",
       "      <td>0.002888</td>\n",
       "      <td>0.015420</td>\n",
       "      <td>-0.000719</td>\n",
       "    </tr>\n",
       "    <tr>\n",
       "      <th>2016</th>\n",
       "      <td>Zimbabwe</td>\n",
       "      <td>ZWE</td>\n",
       "      <td>0.157111</td>\n",
       "      <td>0.610234</td>\n",
       "      <td>0.121456</td>\n",
       "      <td>3.104294</td>\n",
       "      <td>0.772275</td>\n",
       "      <td>3.174134</td>\n",
       "      <td>1.513269</td>\n",
       "      <td>0.000646</td>\n",
       "      <td>0.000871</td>\n",
       "      <td>0.001986</td>\n",
       "      <td>0.005607</td>\n",
       "      <td>0.000473</td>\n",
       "      <td>0.018424</td>\n",
       "      <td>-0.001482</td>\n",
       "    </tr>\n",
       "    <tr>\n",
       "      <th>2017</th>\n",
       "      <td>Zimbabwe</td>\n",
       "      <td>ZWE</td>\n",
       "      <td>0.157963</td>\n",
       "      <td>0.611242</td>\n",
       "      <td>0.124443</td>\n",
       "      <td>3.110926</td>\n",
       "      <td>0.772648</td>\n",
       "      <td>3.192789</td>\n",
       "      <td>1.510943</td>\n",
       "      <td>0.000852</td>\n",
       "      <td>0.001008</td>\n",
       "      <td>0.002987</td>\n",
       "      <td>0.006632</td>\n",
       "      <td>0.000373</td>\n",
       "      <td>0.018655</td>\n",
       "      <td>-0.002326</td>\n",
       "    </tr>\n",
       "  </tbody>\n",
       "</table>\n",
       "<p>6468 rows × 16 columns</p>\n",
       "</div>"
      ],
      "text/plain": [
       "           entity code  schizophrenia  bipolar_disorder  eating_disorders  \\\n",
       "year                                                                        \n",
       "1990  Afghanistan  AFG       0.160560          0.697779          0.101855   \n",
       "1991  Afghanistan  AFG       0.160312          0.697961          0.099313   \n",
       "1992  Afghanistan  AFG       0.160135          0.698107          0.096692   \n",
       "1993  Afghanistan  AFG       0.160037          0.698257          0.094336   \n",
       "1994  Afghanistan  AFG       0.160022          0.698469          0.092439   \n",
       "...           ...  ...            ...               ...               ...   \n",
       "2013     Zimbabwe  ZWE       0.155670          0.607993          0.117248   \n",
       "2014     Zimbabwe  ZWE       0.155993          0.608610          0.118073   \n",
       "2015     Zimbabwe  ZWE       0.156465          0.609363          0.119470   \n",
       "2016     Zimbabwe  ZWE       0.157111          0.610234          0.121456   \n",
       "2017     Zimbabwe  ZWE       0.157963          0.611242          0.124443   \n",
       "\n",
       "      anxiety_disorders  drug_use_disorders  depression  \\\n",
       "year                                                      \n",
       "1990           4.828830            1.677082    4.071831   \n",
       "1991           4.829740            1.684746    4.079531   \n",
       "1992           4.831108            1.694334    4.088358   \n",
       "1993           4.830864            1.705320    4.096190   \n",
       "1994           4.829423            1.716069    4.099582   \n",
       "...                 ...                 ...         ...   \n",
       "2013           3.090168            0.766280    3.128192   \n",
       "2014           3.093964            0.768914    3.140290   \n",
       "2015           3.098687            0.771802    3.155710   \n",
       "2016           3.104294            0.772275    3.174134   \n",
       "2017           3.110926            0.772648    3.192789   \n",
       "\n",
       "      alcohol_use_disorders  last_year_diff_schizophrenia  \\\n",
       "year                                                        \n",
       "1990               0.672404                           NaN   \n",
       "1991               0.671768                     -0.000248   \n",
       "1992               0.670644                     -0.000177   \n",
       "1993               0.669738                     -0.000098   \n",
       "1994               0.669260                     -0.000015   \n",
       "...                     ...                           ...   \n",
       "2013               1.515641                      0.000205   \n",
       "2014               1.515470                      0.000323   \n",
       "2015               1.514751                      0.000472   \n",
       "2016               1.513269                      0.000646   \n",
       "2017               1.510943                      0.000852   \n",
       "\n",
       "      last_year_diff_bipolar_disorder  last_year_diff_eating_disorders  \\\n",
       "year                                                                     \n",
       "1990                              NaN                              NaN   \n",
       "1991                         0.000182                        -0.002542   \n",
       "1992                         0.000146                        -0.002621   \n",
       "1993                         0.000150                        -0.002356   \n",
       "1994                         0.000212                        -0.001897   \n",
       "...                               ...                              ...   \n",
       "2013                         0.000498                         0.000459   \n",
       "2014                         0.000617                         0.000825   \n",
       "2015                         0.000753                         0.001397   \n",
       "2016                         0.000871                         0.001986   \n",
       "2017                         0.001008                         0.002987   \n",
       "\n",
       "      last_year_diff_anxiety_disorders  last_year_diff_drug_use_disorders  \\\n",
       "year                                                                        \n",
       "1990                               NaN                                NaN   \n",
       "1991                          0.000910                           0.007664   \n",
       "1992                          0.001368                           0.009588   \n",
       "1993                         -0.000244                           0.010986   \n",
       "1994                         -0.001441                           0.010749   \n",
       "...                                ...                                ...   \n",
       "2013                          0.002958                           0.002441   \n",
       "2014                          0.003796                           0.002634   \n",
       "2015                          0.004723                           0.002888   \n",
       "2016                          0.005607                           0.000473   \n",
       "2017                          0.006632                           0.000373   \n",
       "\n",
       "      last_year_diff_depression  last_year_diff_alcohol_use_disorders  \n",
       "year                                                                   \n",
       "1990                        NaN                                   NaN  \n",
       "1991                   0.007700                             -0.000636  \n",
       "1992                   0.008827                             -0.001124  \n",
       "1993                   0.007832                             -0.000906  \n",
       "1994                   0.003392                             -0.000478  \n",
       "...                         ...                                   ...  \n",
       "2013                   0.010120                              0.000148  \n",
       "2014                   0.012098                             -0.000171  \n",
       "2015                   0.015420                             -0.000719  \n",
       "2016                   0.018424                             -0.001482  \n",
       "2017                   0.018655                             -0.002326  \n",
       "\n",
       "[6468 rows x 16 columns]"
      ]
     },
     "execution_count": 9,
     "metadata": {},
     "output_type": "execute_result"
    }
   ],
   "source": [
    "diff_df"
   ]
  },
  {
   "cell_type": "code",
   "execution_count": 10,
   "id": "dd4561ca",
   "metadata": {},
   "outputs": [
    {
     "data": {
      "text/plain": [
       "Index(['entity', 'code', 'schizophrenia', 'bipolar_disorder',\n",
       "       'eating_disorders', 'anxiety_disorders', 'drug_use_disorders',\n",
       "       'depression', 'alcohol_use_disorders', 'last_year_diff_schizophrenia',\n",
       "       'last_year_diff_bipolar_disorder', 'last_year_diff_eating_disorders',\n",
       "       'last_year_diff_anxiety_disorders', 'last_year_diff_drug_use_disorders',\n",
       "       'last_year_diff_depression', 'last_year_diff_alcohol_use_disorders'],\n",
       "      dtype='object')"
      ]
     },
     "execution_count": 10,
     "metadata": {},
     "output_type": "execute_result"
    }
   ],
   "source": [
    "diff_df.columns"
   ]
  },
  {
   "cell_type": "code",
   "execution_count": 11,
   "id": "8a645a05",
   "metadata": {},
   "outputs": [],
   "source": [
    "diff_df.drop(columns={'schizophrenia', 'bipolar_disorder',\n",
    "       'eating_disorders', 'anxiety_disorders', 'drug_use_disorders',\n",
    "       'depression', 'alcohol_use_disorders'}, inplace=True)\n",
    "diff_df = diff_df.groupby('year').mean()"
   ]
  },
  {
   "cell_type": "code",
   "execution_count": 12,
   "id": "9cbd1e9d",
   "metadata": {},
   "outputs": [
    {
     "data": {
      "image/png": "[encoded data removed]",
      "text/plain": [
       "<Figure size 640x480 with 1 Axes>"
      ]
     },
     "metadata": {},
     "output_type": "display_data"
    }
   ],
   "source": [
    "for col in diff_df.columns:\n",
    "    if col != 'entity' and col != 'code':\n",
    "        diff_df[col][1:].plot()\n",
    "        plt.legend(bbox_to_anchor=(1.05, 1.0), loc='upper left')\n",
    "        plt.title('Difference in World Rates of Mental Health')\n",
    "        plt.xlabel('Year')\n",
    "        plt.ylabel('Diference in Rate of Prevelence')"
   ]
  },
  {
   "cell_type": "code",
   "execution_count": 14,
   "id": "36367ddc",
   "metadata": {
    "collapsed": true
   },
   "outputs": [
    {
     "name": "stdout",
     "output_type": "stream",
     "text": [
      "There are 0, 0.0%, null values in index\n",
      "There are 0, 0.0%, null values in entity\n",
      "There are 980, 15.15%, null values in code\n",
      "There are 0, 0.0%, null values in year\n",
      "There are 0, 0.0%, null values in schizophrenia\n",
      "There are 0, 0.0%, null values in bipolar_disorder\n",
      "There are 0, 0.0%, null values in eating_disorders\n",
      "There are 0, 0.0%, null values in anxiety_disorders\n",
      "There are 0, 0.0%, null values in drug_use_disorders\n",
      "There are 0, 0.0%, null values in depression\n",
      "There are 0, 0.0%, null values in alcohol_use_disorders\n",
      "There are 0, 0.0%, null values in index\n",
      "There are 0, 0.0%, null values in entity\n",
      "There are 1726, 3.61%, null values in code\n",
      "There are 0, 0.0%, null values in year\n",
      "There are 41339, 86.47%, null values in schizophrenia\n",
      "There are 41339, 86.47%, null values in bipolar_disorder\n",
      "There are 924, 1.93%, null values in eating_disorders\n",
      "There are 47807, 100.0%, null values in anxiety_disorders\n",
      "There are 47807, 100.0%, null values in drug_use_disorders\n",
      "There are 47807, 100.0%, null values in depression\n",
      "There are 47807, 100.0%, null values in alcohol_use_disorders\n",
      "There are 0, 0.0%, null values in index\n",
      "There are 0, 0.0%, null values in entity\n",
      "There are 1126, 14.61%, null values in code\n",
      "There are 1239, 16.08%, null values in suicide_rates_per_100k\n",
      "There are 1239, 16.08%, null values in depressive_disorder_rates_per_100k\n",
      "There are 924, 11.99%, null values in population\n"
     ]
    }
   ],
   "source": [
    "yearly_disorders, yearly_prevalence_sex, yearly_depressive_rates, yearly_suicide_rates = w.yearly_aggregation()"
   ]
  },
  {
   "cell_type": "code",
   "execution_count": 45,
   "id": "05b12932",
   "metadata": {},
   "outputs": [],
   "source": [
    "changes_disorders = pd.concat([yearly_disorders.head(1), yearly_disorders.tail(1)])\n",
    "changes_disorders = changes_disorders.T"
   ]
  },
  {
   "cell_type": "code",
   "execution_count": 52,
   "id": "a98e4412",
   "metadata": {},
   "outputs": [],
   "source": [
    "changes_disorders[f'change_over_time'] = changes_disorders[2017] - changes_disorders[1990]"
   ]
  },
  {
   "cell_type": "code",
   "execution_count": 53,
   "id": "e8061c8b",
   "metadata": {},
   "outputs": [
    {
     "data": {
      "text/html": [
       "<div>\n",
       "<style scoped>\n",
       "    .dataframe tbody tr th:only-of-type {\n",
       "        vertical-align: middle;\n",
       "    }\n",
       "\n",
       "    .dataframe tbody tr th {\n",
       "        vertical-align: top;\n",
       "    }\n",
       "\n",
       "    .dataframe thead th {\n",
       "        text-align: right;\n",
       "    }\n",
       "</style>\n",
       "<table border=\"1\" class=\"dataframe\">\n",
       "  <thead>\n",
       "    <tr style=\"text-align: right;\">\n",
       "      <th>year</th>\n",
       "      <th>1990</th>\n",
       "      <th>2017</th>\n",
       "      <th>change_over_time</th>\n",
       "    </tr>\n",
       "  </thead>\n",
       "  <tbody>\n",
       "    <tr>\n",
       "      <th>schizophrenia</th>\n",
       "      <td>0.209548</td>\n",
       "      <td>0.214705</td>\n",
       "      <td>0.005157</td>\n",
       "    </tr>\n",
       "    <tr>\n",
       "      <th>bipolar_disorder</th>\n",
       "      <td>0.715392</td>\n",
       "      <td>0.722693</td>\n",
       "      <td>0.007301</td>\n",
       "    </tr>\n",
       "    <tr>\n",
       "      <th>eating_disorders</th>\n",
       "      <td>0.221774</td>\n",
       "      <td>0.262806</td>\n",
       "      <td>0.041032</td>\n",
       "    </tr>\n",
       "    <tr>\n",
       "      <th>anxiety_disorders</th>\n",
       "      <td>3.957269</td>\n",
       "      <td>4.002347</td>\n",
       "      <td>0.045078</td>\n",
       "    </tr>\n",
       "    <tr>\n",
       "      <th>drug_use_disorders</th>\n",
       "      <td>0.808283</td>\n",
       "      <td>0.903575</td>\n",
       "      <td>0.095292</td>\n",
       "    </tr>\n",
       "    <tr>\n",
       "      <th>depression</th>\n",
       "      <td>3.506288</td>\n",
       "      <td>3.456795</td>\n",
       "      <td>-0.049493</td>\n",
       "    </tr>\n",
       "    <tr>\n",
       "      <th>alcohol_use_disorders</th>\n",
       "      <td>1.546533</td>\n",
       "      <td>1.590201</td>\n",
       "      <td>0.043668</td>\n",
       "    </tr>\n",
       "  </tbody>\n",
       "</table>\n",
       "</div>"
      ],
      "text/plain": [
       "year                       1990      2017  change_over_time\n",
       "schizophrenia          0.209548  0.214705          0.005157\n",
       "bipolar_disorder       0.715392  0.722693          0.007301\n",
       "eating_disorders       0.221774  0.262806          0.041032\n",
       "anxiety_disorders      3.957269  4.002347          0.045078\n",
       "drug_use_disorders     0.808283  0.903575          0.095292\n",
       "depression             3.506288  3.456795         -0.049493\n",
       "alcohol_use_disorders  1.546533  1.590201          0.043668"
      ]
     },
     "execution_count": 53,
     "metadata": {},
     "output_type": "execute_result"
    }
   ],
   "source": [
    "changes_disorders"
   ]
  },
  {
   "cell_type": "code",
   "execution_count": 62,
   "id": "633b69dc",
   "metadata": {},
   "outputs": [
    {
     "data": {
      "text/html": [
       "<div>\n",
       "<style scoped>\n",
       "    .dataframe tbody tr th:only-of-type {\n",
       "        vertical-align: middle;\n",
       "    }\n",
       "\n",
       "    .dataframe tbody tr th {\n",
       "        vertical-align: top;\n",
       "    }\n",
       "\n",
       "    .dataframe thead th {\n",
       "        text-align: right;\n",
       "    }\n",
       "</style>\n",
       "<table border=\"1\" class=\"dataframe\">\n",
       "  <thead>\n",
       "    <tr style=\"text-align: right;\">\n",
       "      <th>year</th>\n",
       "      <th>1990</th>\n",
       "      <th>2017</th>\n",
       "      <th>change_over_time</th>\n",
       "    </tr>\n",
       "  </thead>\n",
       "  <tbody>\n",
       "    <tr>\n",
       "      <th>population</th>\n",
       "      <td>5.431311e+07</td>\n",
       "      <td>7.695605e+07</td>\n",
       "      <td>2.264293e+07</td>\n",
       "    </tr>\n",
       "    <tr>\n",
       "      <th>percentage_suicide</th>\n",
       "      <td>1.268699e-04</td>\n",
       "      <td>1.026680e-04</td>\n",
       "      <td>-2.420183e-05</td>\n",
       "    </tr>\n",
       "    <tr>\n",
       "      <th>percentage_depressive_disorder</th>\n",
       "      <td>3.359131e-02</td>\n",
       "      <td>3.278426e-02</td>\n",
       "      <td>-8.070437e-04</td>\n",
       "    </tr>\n",
       "    <tr>\n",
       "      <th>num_suicide</th>\n",
       "      <td>8.269010e+03</td>\n",
       "      <td>7.685582e+03</td>\n",
       "      <td>-5.834286e+02</td>\n",
       "    </tr>\n",
       "    <tr>\n",
       "      <th>num_depressed</th>\n",
       "      <td>1.879130e+06</td>\n",
       "      <td>2.566030e+06</td>\n",
       "      <td>6.869000e+05</td>\n",
       "    </tr>\n",
       "  </tbody>\n",
       "</table>\n",
       "</div>"
      ],
      "text/plain": [
       "year                                    1990          2017  change_over_time\n",
       "population                      5.431311e+07  7.695605e+07      2.264293e+07\n",
       "percentage_suicide              1.268699e-04  1.026680e-04     -2.420183e-05\n",
       "percentage_depressive_disorder  3.359131e-02  3.278426e-02     -8.070437e-04\n",
       "num_suicide                     8.269010e+03  7.685582e+03     -5.834286e+02\n",
       "num_depressed                   1.879130e+06  2.566030e+06      6.869000e+05"
      ]
     },
     "execution_count": 62,
     "metadata": {},
     "output_type": "execute_result"
    }
   ],
   "source": [
    "change_in_rates = rates_df.copy()\n",
    "change_in_rates = change_in_rates.groupby('year').mean()\n",
    "change_in_rates = pd.concat([change_in_rates.head(1), change_in_rates.tail(1)])\n",
    "change_in_rates = change_in_rates.T\n",
    "change_in_rates['change_over_time'] = change_in_rates[2017] - change_in_rates[1990]\n",
    "change_in_rates"
   ]
  },
  {
   "cell_type": "markdown",
   "id": "51d2b49f",
   "metadata": {},
   "source": [
    "Takeaway: All mental health disorders other than depression have been increasing in the world's population from 1990 to 2017. The rates_df confirms that the percent of population effected by suicide and depression has indeed decreased, though the raw number of people with depression has increased. This may be due to the increase in the global population during this time period. "
   ]
  },
  {
   "cell_type": "markdown",
   "id": "e92777f6",
   "metadata": {},
   "source": [
    "**Question 3:**  Is there a difference in the rates of the happiest country vs the least happy country?"
   ]
  },
  {
   "cell_type": "markdown",
   "id": "01a83e51",
   "metadata": {},
   "source": [
    "According to the World Happiness Report, in 2017 the happiest country in the world was Norway, and the least happy country was Afghanistan.\n",
    "\n",
    "Sources: https://worldhappiness.report/ed/2017/#:~:text=Norway%20tops%20the%20global%20happiness,in%20a%20tightly%20packed%20bunch.\n",
    "\n",
    "To answer this question, I will conduct a two sample means comparison hypothesis test."
   ]
  },
  {
   "cell_type": "code",
   "execution_count": 68,
   "id": "3a427790",
   "metadata": {},
   "outputs": [],
   "source": [
    "afghanistan = rates_df[rates_df.entity == 'Afghanistan'].percentage_depressive_disorder\n",
    "norway = rates_df[rates_df.entity == 'Norway'].percentage_depressive_disorder"
   ]
  },
  {
   "cell_type": "code",
   "execution_count": 69,
   "id": "2eff24f3",
   "metadata": {},
   "outputs": [
    {
     "data": {
      "text/plain": [
       "<AxesSubplot:>"
      ]
     },
     "execution_count": 69,
     "metadata": {},
     "output_type": "execute_result"
    },
    {
     "data": {
      "image/png": "[encoded data removed]",
      "text/plain": [
       "<Figure size 640x480 with 1 Axes>"
      ]
     },
     "metadata": {},
     "output_type": "display_data"
    }
   ],
   "source": [
    "afghanistan.hist()"
   ]
  },
  {
   "cell_type": "code",
   "execution_count": 70,
   "id": "e833ceac",
   "metadata": {},
   "outputs": [
    {
     "data": {
      "text/plain": [
       "<AxesSubplot:>"
      ]
     },
     "execution_count": 70,
     "metadata": {},
     "output_type": "execute_result"
    },
    {
     "data": {
      "image/png": "[encoded data removed]",
      "text/plain": [
       "<Figure size 640x480 with 1 Axes>"
      ]
     },
     "metadata": {},
     "output_type": "display_data"
    }
   ],
   "source": [
    "norway.hist()"
   ]
  },
  {
   "cell_type": "markdown",
   "id": "71eaf402",
   "metadata": {},
   "source": [
    "H$_O$: Afghanistan's percentage depressive disorder and Norway's percentage depressive disorder have equal variance.\n",
    "\n",
    "H$_A$: Afghanistan's percentage depressive disorder and Norway's percentage depressive disorder have inequal variance."
   ]
  },
  {
   "cell_type": "code",
   "execution_count": 74,
   "id": "a92b0936",
   "metadata": {},
   "outputs": [
    {
     "name": "stdout",
     "output_type": "stream",
     "text": [
      "We must reject the null hypothesis and conclude with some confidence that the two countires' depression rates have inequal variance.\n"
     ]
    }
   ],
   "source": [
    "α = 0.05\n",
    "\n",
    "t_stat, p = stats.levene(afghanistan, norway)\n",
    "\n",
    "if p < α:\n",
    "    print('We must reject the null hypothesis and conclude with some confidence that the two countires\\' depression rates have inequal variance.')"
   ]
  },
  {
   "cell_type": "markdown",
   "id": "5051af33",
   "metadata": {},
   "source": [
    "H$_O$: Afghanistan's mean percentage depressive disorder and Norway's mean percentage depressive disorder do not differ significantly. \n",
    "\n",
    "H$_A$: Afghanistan's mean percentage depressive disorder and Norway's mean percentage depressive disorder  differ significantly. "
   ]
  },
  {
   "cell_type": "code",
   "execution_count": 78,
   "id": "7c96c2e3",
   "metadata": {},
   "outputs": [
    {
     "name": "stdout",
     "output_type": "stream",
     "text": [
      "We must reject the null hypothesis, and conclude with some confidence that the  two means differ.\n"
     ]
    }
   ],
   "source": [
    "t_stat, p = stats.ttest_ind(afghanistan, norway, equal_var=False)\n",
    "\n",
    "if p < α:\n",
    "    print('We must reject the null hypothesis, and conclude with some confidence that the  two means differ.')"
   ]
  },
  {
   "cell_type": "code",
   "execution_count": 101,
   "id": "d12d0c0f",
   "metadata": {},
   "outputs": [
    {
     "data": {
      "text/plain": [
       "0.04058931397607143"
      ]
     },
     "execution_count": 101,
     "metadata": {},
     "output_type": "execute_result"
    }
   ],
   "source": [
    "afghanistan.mean()"
   ]
  },
  {
   "cell_type": "code",
   "execution_count": 102,
   "id": "e0fd05b8",
   "metadata": {},
   "outputs": [
    {
     "data": {
      "text/plain": [
       "0.03444661927928571"
      ]
     },
     "execution_count": 102,
     "metadata": {},
     "output_type": "execute_result"
    }
   ],
   "source": [
    "norway.mean()"
   ]
  },
  {
   "cell_type": "markdown",
   "id": "3c192272",
   "metadata": {},
   "source": [
    "Takeaway:  This test affirms that the data in fact supports that Norway was the happiest country and that Afghanistan was the least happy country in 2017 based on the depressive disorder percentages."
   ]
  },
  {
   "cell_type": "markdown",
   "id": "f283bed3",
   "metadata": {},
   "source": [
    "**Question 4:**  Is there a difference in rates of depression between two populations: 1) Iceland, Portugal, Canada, Australia and Sweden and 2) the rest of the world?"
   ]
  },
  {
   "cell_type": "code",
   "execution_count": 91,
   "id": "6f7a1f17",
   "metadata": {},
   "outputs": [],
   "source": [
    "happy_countries = rates_df[(rates_df.entity == 'Iceland') | (rates_df.entity == 'Portugal') | (rates_df.entity == 'Canada') | (rates_df.entity == 'Australia') | (rates_df.entity == 'Sweden')].percentage_depressive_disorder"
   ]
  },
  {
   "cell_type": "code",
   "execution_count": 92,
   "id": "e40fce87",
   "metadata": {},
   "outputs": [],
   "source": [
    "world = rates_df[~(rates_df.entity == 'Iceland') | (rates_df.entity == 'Portugal') | (rates_df.entity == 'Canada') | (rates_df.entity == 'Australia') | (rates_df.entity == 'Sweden')].percentage_depressive_disorder"
   ]
  },
  {
   "cell_type": "code",
   "execution_count": 94,
   "id": "403d190f",
   "metadata": {},
   "outputs": [
    {
     "data": {
      "text/plain": [
       "<AxesSubplot:>"
      ]
     },
     "execution_count": 94,
     "metadata": {},
     "output_type": "execute_result"
    },
    {
     "data": {
      "image/png": "[encoded data removed]",
      "text/plain": [
       "<Figure size 640x480 with 1 Axes>"
      ]
     },
     "metadata": {},
     "output_type": "display_data"
    }
   ],
   "source": [
    "happy_countries.hist()"
   ]
  },
  {
   "cell_type": "code",
   "execution_count": 95,
   "id": "0f433a85",
   "metadata": {},
   "outputs": [
    {
     "data": {
      "text/plain": [
       "<AxesSubplot:>"
      ]
     },
     "execution_count": 95,
     "metadata": {},
     "output_type": "execute_result"
    },
    {
     "data": {
      "image/png": "[encoded data removed]",
      "text/plain": [
       "<Figure size 640x480 with 1 Axes>"
      ]
     },
     "metadata": {},
     "output_type": "display_data"
    }
   ],
   "source": [
    "world.hist()"
   ]
  },
  {
   "cell_type": "markdown",
   "id": "678a5320",
   "metadata": {},
   "source": [
    "H 𝑂 : There is no difference in the means of rates of depression between the world and the top 5 happiest countries.\n",
    "\n",
    "H 𝐴 : There is difference in the means of rates of depression between the world and the top 5 happiest countries."
   ]
  },
  {
   "cell_type": "code",
   "execution_count": 96,
   "id": "78aa4ec0",
   "metadata": {},
   "outputs": [
    {
     "name": "stdout",
     "output_type": "stream",
     "text": [
      "We must reject the null hypothesis and conclude with some confidence that the means are different.\n"
     ]
    }
   ],
   "source": [
    "t_stat, p = stats.ttest_1samp(happy_countries, world.mean())\n",
    "α = 0.05\n",
    "if p < α:\n",
    "    print('We must reject the null hypothesis and conclude with some confidence that the means are different.')"
   ]
  },
  {
   "cell_type": "markdown",
   "id": "26a53645",
   "metadata": {},
   "source": [
    "H 𝑂 : The mean rate of depression in the top 5 happiest coutries is less than or equal to that of the rest of the world.\n",
    "\n",
    "H 𝐴 : The mean rate of depression of the top 5 happiest countries is greater than that of the rest of the world."
   ]
  },
  {
   "cell_type": "code",
   "execution_count": 97,
   "id": "48f3328f",
   "metadata": {},
   "outputs": [
    {
     "name": "stdout",
     "output_type": "stream",
     "text": [
      "We must reject the null hypothesis and conclude that the mean for the top 5 happiest countries is greater than that of the rest of the world.\n"
     ]
    }
   ],
   "source": [
    "if ((p / 2) < α) and (t_stat > 0):\n",
    "    print('We must reject the null hypothesis and conclude that the mean for the top 5 happiest countries is greater than that of the rest of the world.')"
   ]
  },
  {
   "cell_type": "markdown",
   "id": "9dded743",
   "metadata": {},
   "source": [
    "Takeaways:  Contrary to what we may have predicted, we see that the data does show that the happiest countries in the world have a greater percentage of the population effected by depressive disorders."
   ]
  },
  {
   "cell_type": "markdown",
   "id": "257f69ec",
   "metadata": {},
   "source": [
    "**Bonus Question:** Conduct a hypothesis test on females vs males with deressive disorders."
   ]
  },
  {
   "cell_type": "code",
   "execution_count": null,
   "id": "ed2e7da0",
   "metadata": {},
   "outputs": [],
   "source": []
  },
  {
   "cell_type": "code",
   "execution_count": null,
   "id": "610e7058",
   "metadata": {},
   "outputs": [],
   "source": []
  },
  {
   "cell_type": "code",
   "execution_count": null,
   "id": "736d9776",
   "metadata": {},
   "outputs": [],
   "source": []
  },
  {
   "cell_type": "code",
   "execution_count": null,
   "id": "9da8fc71",
   "metadata": {},
   "outputs": [],
   "source": []
  },
  {
   "cell_type": "code",
   "execution_count": null,
   "id": "a21d1688",
   "metadata": {},
   "outputs": [],
   "source": []
  },
  {
   "cell_type": "code",
   "execution_count": null,
   "id": "1f8ecc55",
   "metadata": {},
   "outputs": [],
   "source": []
  }
 ],
 "metadata": {
  "kernelspec": {
   "display_name": "Python 3 (ipykernel)",
   "language": "python",
   "name": "python3"
  },
  "language_info": {
   "codemirror_mode": {
    "name": "ipython",
    "version": 3
   },
   "file_extension": ".py",
   "mimetype": "text/x-python",
   "name": "python",
   "nbconvert_exporter": "python",
   "pygments_lexer": "ipython3",
   "version": "3.9.13"
  }
 },
 "nbformat": 4,
 "nbformat_minor": 5
}
